{
 "cells": [
  {
   "cell_type": "markdown",
   "metadata": {},
   "source": [
    "# DATA 1 Practical 5\n",
    "                                                                                                    Simos Gerasimou\n",
    "\n",
    "\n",
    "## A Data Journey In Probability Distributions and Inferential Statistics\n",
    "\n",
    "**Pandas API Reference**: https://pandas.pydata.org/pandas-docs/stable/reference/index.html\n",
    "\n",
    "**Matplotlib API Reference**: https://matplotlib.org/3.1.1/api/index.html\n",
    "\n",
    "**Seaborn API Reference**: https://seaborn.pydata.org/api.html\n",
    "\n",
    "***"
   ]
  },
  {
   "cell_type": "markdown",
   "metadata": {
    "deletable": false,
    "editable": false,
    "run_control": {
     "frozen": true
    }
   },
   "source": [
    "## Part A'\n",
    "\n",
    "### Understanding the Cental Limit Theorem\n",
    "\n",
    "The **central limit theorem** states that, given a sufficiently large sample size, the sampling distribution of the mean for a random variable will approximate a normal distribution regardless of the variable's distribution in the population.\n",
    "\n",
    "---\n",
    "\n",
    "Nisa store at the University of York has recently installed self-checkout machines and the Nisa store manager wants to investigate the time spent by students waiting to be serviced. The manager expects that most students should be able to check out immediately and exponentially fewer students to wait for a successive time. \n",
    "\n",
    "He consults a statistician, whose advice was to model the waiting time at the store using an **exponential distribution** which enables to model the amount of waiting time until the next event with its formula given by $f(x;\\lambda) = \\lambda e ^{-\\lambda x}$, if $x \\geq 0$, where $\\lambda$ is the average rate of occurence per interval. For instance, if $\\beta$ customers are serviced per hour the rate $\\lambda = 1/\\beta$.\n",
    "\n",
    "Based on some preliminary analysis of the log of the self-checkout machines, the manager has found that the on average each machine services **15 customers per hour, i.e., $\\lambda=1/15$**.\n",
    "\n",
    "---\n",
    "\n",
    "**TA1)  Generate 10000 samples following the exponential distribution with $\\beta=15$ ($\\lambda=1/15$). Store this data in a list.**\n",
    "\n",
    "* Hint: Look at random.exponential() function of numpy [(reference)](https://docs.scipy.org/doc/numpy-1.15.0/reference/generated/numpy.random.exponential.html)\n"
   ]
  },
  {
   "cell_type": "code",
   "execution_count": 9,
   "metadata": {},
   "outputs": [],
   "source": [
    "#Write your answer here\n",
    "from numpy import random as npRand\n",
    "\n",
    "sample = npRand.exponential(15, 100000)"
   ]
  },
  {
   "cell_type": "markdown",
   "metadata": {
    "deletable": false,
    "editable": false,
    "run_control": {
     "frozen": true
    }
   },
   "source": [
    "**TA2)  Print the mean of the generated data that is saved on the list.**\n"
   ]
  },
  {
   "cell_type": "code",
   "execution_count": 10,
   "metadata": {},
   "outputs": [
    {
     "name": "stdout",
     "output_type": "stream",
     "text": [
      "14.923397978887646\n"
     ]
    }
   ],
   "source": [
    "#Write your answer here\n",
    "total = 0\n",
    "for i in sample:\n",
    "    total += i\n",
    "mean = total / len(sample)\n",
    "print (mean)\n"
   ]
  },
  {
   "cell_type": "markdown",
   "metadata": {
    "deletable": false,
    "editable": false,
    "run_control": {
     "frozen": true
    }
   },
   "source": [
    "**TA3)  Plot the histogram of the generated data and the density plot. What is the shape of the distribution? Can you understand what it represents?**\n",
    "\n",
    "* Hint: You may use matplotlib or (better) seaborn (https://seaborn.pydata.org/generated/seaborn.distplot.html)\n",
    "* Do not just ignore the question about trying to understand the distribution!\n"
   ]
  },
  {
   "cell_type": "code",
   "execution_count": 12,
   "metadata": {},
   "outputs": [
    {
     "data": {
      "text/plain": [
       "<matplotlib.axes._subplots.AxesSubplot at 0x5a58290>"
      ]
     },
     "execution_count": 12,
     "metadata": {},
     "output_type": "execute_result"
    },
    {
     "data": {
      "image/png": "[encoded data removed]",
      "text/plain": [
       "<Figure size 432x288 with 1 Axes>"
      ]
     },
     "metadata": {
      "needs_background": "light"
     },
     "output_type": "display_data"
    }
   ],
   "source": [
    "import seaborn as sns\n",
    "\n",
    "sns.distplot(sample)"
   ]
  },
  {
   "cell_type": "markdown",
   "metadata": {
    "deletable": false,
    "editable": false,
    "run_control": {
     "frozen": true
    }
   },
   "source": [
    "**TA4) Plot again the density curve from the previous task. On the sample plot try to plot the curve as given by the definition of the exponential distribution. What do you expect the relationship between these two plot to be?**\n",
    "\n",
    "* Hint: Check the definition of the exponential distribution. What do you need to plot it?\n",
    "* Hint: Check the range of the values on the X axis"
   ]
  },
  {
   "cell_type": "code",
   "execution_count": 17,
   "metadata": {},
   "outputs": [
    {
     "data": {
      "text/plain": [
       "<matplotlib.axes._subplots.AxesSubplot at 0xb6a1610>"
      ]
     },
     "execution_count": 17,
     "metadata": {},
     "output_type": "execute_result"
    },
    {
     "data": {
      "image/png": "[encoded data removed]",
      "text/plain": [
       "<Figure size 432x288 with 1 Axes>"
      ]
     },
     "metadata": {
      "needs_background": "light"
     },
     "output_type": "display_data"
    }
   ],
   "source": [
    "sns.distplot(sample)"
   ]
  },
  {
   "cell_type": "markdown",
   "metadata": {
    "deletable": false,
    "editable": false,
    "run_control": {
     "frozen": true
    }
   },
   "source": [
    "**TA5) Using the data generated in TA1, (i) generate and (ii) plot the distribution of sample means over $k=20$ sampling times with $n=5$ (the sampling size).**\n",
    "\n",
    "* Hint:  The \"Distribution of Sample Means\" is the collection of sample means over repeated sampling of a particular size (n) from a population\n",
    "* Hint: You might want to check how to select randomly using Numpy"
   ]
  },
  {
   "cell_type": "code",
   "execution_count": 38,
   "metadata": {},
   "outputs": [
    {
     "data": {
      "text/plain": [
       "<matplotlib.axes._subplots.AxesSubplot at 0xbe4b930>"
      ]
     },
     "execution_count": 38,
     "metadata": {},
     "output_type": "execute_result"
    },
    {
     "data": {
      "image/png": "[encoded data removed]",
      "text/plain": [
       "<Figure size 432x288 with 1 Axes>"
      ]
     },
     "metadata": {
      "needs_background": "light"
     },
     "output_type": "display_data"
    }
   ],
   "source": [
    "meta_samples = []\n",
    "for i in range(20):\n",
    "    samples = npRand.exponential(15, 5)\n",
    "    meta_samples.append(samples)\n",
    "\n",
    "means = []\n",
    "for i in range(len(meta_samples)):\n",
    "    total = 0\n",
    "    for j in meta_samples[i]:\n",
    "        total += j\n",
    "    means.append(total/len(meta_samples[i]))\n",
    "\n",
    "sns.distplot(means, 10)\n",
    "        "
   ]
  },
  {
   "cell_type": "markdown",
   "metadata": {
    "deletable": false,
    "editable": false,
    "run_control": {
     "frozen": true
    }
   },
   "source": [
    "**TA6) Repeat TA5 with $n \\in \\{5, 20, 40\\}$. What do you observe as $n$ increases?**"
   ]
  },
  {
   "cell_type": "code",
   "execution_count": 22,
   "metadata": {},
   "outputs": [
    {
     "data": {
      "text/plain": [
       "<matplotlib.axes._subplots.AxesSubplot at 0xb764350>"
      ]
     },
     "execution_count": 22,
     "metadata": {},
     "output_type": "execute_result"
    },
    {
     "data": {
      "image/png": "[encoded data removed]",
      "text/plain": [
       "<Figure size 432x288 with 1 Axes>"
      ]
     },
     "metadata": {
      "needs_background": "light"
     },
     "output_type": "display_data"
    }
   ],
   "source": [
    "meta_samples = []\n",
    "for i in range(20):\n",
    "    samples = npRand.exponential(15, 5)\n",
    "    meta_samples.append(samples)\n",
    "\n",
    "means = []\n",
    "for i in range(len(meta_samples)):\n",
    "    total = 0\n",
    "    for j in meta_samples[i]:\n",
    "        total += j\n",
    "    means.append(total/len(meta_samples[i]))\n",
    "sns.distplot(means)\n",
    "\n",
    "## new sample\n",
    "meta_samples = []\n",
    "for i in range(20):\n",
    "    samples = npRand.exponential(15, 20)\n",
    "    meta_samples.append(samples)\n",
    "\n",
    "means = []\n",
    "for i in range(len(meta_samples)):\n",
    "    total = 0\n",
    "    for j in meta_samples[i]:\n",
    "        total += j\n",
    "    means.append(total/len(meta_samples[i]))\n",
    "sns.distplot(means)\n",
    "\n",
    "## new sample\n",
    "meta_samples = []\n",
    "for i in range(20):\n",
    "    samples = npRand.exponential(15, 40)\n",
    "    meta_samples.append(samples)\n",
    "\n",
    "means = []\n",
    "for i in range(len(meta_samples)):\n",
    "    total = 0\n",
    "    for j in meta_samples[i]:\n",
    "        total += j\n",
    "    means.append(total/len(meta_samples[i]))\n",
    "sns.distplot(means)\n"
   ]
  },
  {
   "cell_type": "markdown",
   "metadata": {
    "deletable": false,
    "editable": false,
    "run_control": {
     "frozen": true
    }
   },
   "source": [
    "**TA7) Repeat TA5 with  $n=50$ and $k \\in \\{5, 20,50\\}$. What do you observe as $k$ increases?**"
   ]
  },
  {
   "cell_type": "code",
   "execution_count": 36,
   "metadata": {},
   "outputs": [
    {
     "data": {
      "text/plain": [
       "<matplotlib.axes._subplots.AxesSubplot at 0xbdb64b0>"
      ]
     },
     "execution_count": 36,
     "metadata": {},
     "output_type": "execute_result"
    },
    {
     "data": {
      "image/png": "[encoded data removed]",
      "text/plain": [
       "<Figure size 432x288 with 1 Axes>"
      ]
     },
     "metadata": {
      "needs_background": "light"
     },
     "output_type": "display_data"
    }
   ],
   "source": [
    "meta_samples = []\n",
    "for i in range(5):\n",
    "    samples = npRand.exponential(15, 50)\n",
    "    meta_samples.append(samples)\n",
    "\n",
    "means = []\n",
    "for i in range(len(meta_samples)):\n",
    "    total = 0\n",
    "    for j in meta_samples[i]:\n",
    "        total += j\n",
    "    means.append(total/len(meta_samples[i]))\n",
    "sns.distplot(means, 5)\n",
    "\n",
    "## new sample\n",
    "meta_samples = []\n",
    "for i in range(20):\n",
    "    samples = npRand.exponential(15, 50)\n",
    "    meta_samples.append(samples)\n",
    "\n",
    "means = []\n",
    "for i in range(len(meta_samples)):\n",
    "    total = 0\n",
    "    for j in meta_samples[i]:\n",
    "        total += j\n",
    "    means.append(total/len(meta_samples[i]))\n",
    "sns.distplot(means, 5)\n",
    "\n",
    "## new sample\n",
    "meta_samples = []\n",
    "for i in range(50):\n",
    "    samples = npRand.exponential(15, 50)\n",
    "    meta_samples.append(samples)\n",
    "\n",
    "means = []\n",
    "for i in range(len(meta_samples)):\n",
    "    total = 0\n",
    "    for j in meta_samples[i]:\n",
    "        total += j\n",
    "    means.append(total/len(meta_samples[i]))\n",
    "sns.distplot(means, 5)"
   ]
  },
  {
   "cell_type": "markdown",
   "metadata": {},
   "source": [
    "---"
   ]
  },
  {
   "cell_type": "markdown",
   "metadata": {
    "deletable": false,
    "editable": false,
    "run_control": {
     "frozen": true
    }
   },
   "source": [
    "## Part B'\n",
    "\n",
    "### The Normal Distribution\n",
    "\n",
    "\n",
    "**TB1) Suppose $X\\sim N(5, 6^2)$. Find the z scores for x=17 and x=1 and explain their meaning.**\n"
   ]
  },
  {
   "cell_type": "code",
   "execution_count": 28,
   "metadata": {},
   "outputs": [
    {
     "name": "stdout",
     "output_type": "stream",
     "text": [
      "2.0\n",
      "-0.6666666666666666\n"
     ]
    }
   ],
   "source": [
    "import numpy as np\n",
    "z1 = (17-5)/6\n",
    "z2 = ((1-5)/6)\n",
    "print (z1)\n",
    "print (z2)"
   ]
  },
  {
   "cell_type": "markdown",
   "metadata": {
    "deletable": false,
    "editable": false,
    "run_control": {
     "frozen": true
    }
   },
   "source": [
    "**TB2) The final exam scores in the Machine Learning 101 module were normally distributed with a mean of 63 and a standard deviation of five.**\n",
    "\n",
    "**(i)  What is the probability that a randomly selected student scored more than 65 on the exam? You must show your calculations and you may use the Z table at** http://www.z-table.com\n",
    "\n",
    "**(ii) What is the probability of randomly selecting a student with score less than 85?**\n",
    "\n",
    "* Hint: You may want to use scipy.stats.norm to answer the following questions (https://docs.scipy.org/doc/scipy/reference/generated/scipy.stats.norm.html)"
   ]
  },
  {
   "cell_type": "markdown",
   "metadata": {},
   "source": [
    "\n",
    "P(X > 64)\n",
    "Z = (65-63)/ 5 = 2/5 = 0.4\n",
    "1- Z(0.0.4) = 1 - 0.6554= 0.3446"
   ]
  },
  {
   "cell_type": "code",
   "execution_count": 40,
   "metadata": {},
   "outputs": [
    {
     "name": "stdout",
     "output_type": "stream",
     "text": [
      "0.37070000000000003\n"
     ]
    }
   ],
   "source": [
    "P(X< 85)\n",
    "Z = (85-63)/5 = 22/5 = 4.4\n",
    "Z(4.4) = 1.000"
   ]
  },
  {
   "cell_type": "markdown",
   "metadata": {
    "deletable": false,
    "editable": false,
    "run_control": {
     "frozen": true
    }
   },
   "source": [
    "**TB3) The average number of hours a household personal computer is used for entertainment is two hours per day. Assume the times for entertainment are normally distributed and the standard deviation for the times is half an hour.**\n",
    "\n",
    "**(i) Find the probability that a household personal computer is used for entertainment between 1.8 and 2.75 hours per day.**"
   ]
  },
  {
   "cell_type": "code",
   "execution_count": null,
   "metadata": {},
   "outputs": [],
   "source": []
  },
  {
   "cell_type": "markdown",
   "metadata": {
    "deletable": false,
    "editable": false,
    "run_control": {
     "frozen": true
    }
   },
   "source": [
    "**(ii) Find the maximum number of hours per day that the bottom quartile of households uses a personal computer for entertainment.**"
   ]
  },
  {
   "cell_type": "code",
   "execution_count": null,
   "metadata": {},
   "outputs": [],
   "source": [
    "#Write your answer here\n"
   ]
  },
  {
   "cell_type": "markdown",
   "metadata": {
    "deletable": false,
    "editable": false,
    "run_control": {
     "frozen": true
    }
   },
   "source": [
    "**TB4) A citrus farmer who grows mandarin oranges finds that the diameters of mandarin oranges harvested on his farm follow a normal distribution with a mean diameter of 5.85 cm and a standard deviation of 0.24 cm.**\n",
    "\n",
    "**(i) Find the probability that a randomly selected mandarin orange from this farm has a diameter larger than 6.0 cm. Also, plot the density curve with the area covered by the probability shaded.**\n",
    "\n",
    "* Hint: You might want to check how to draw random samples using numpy https://docs.scipy.org/doc/numpy-1.15.0/reference/generated/numpy.random.normal.html\n",
    "* Hint: The following code snippet might be useful\n",
    "\n",
    "```python\n",
    "ax = sns.kdeplot(dist, shade=True)\n",
    "line = ax.get_lines()[-1]\n",
    "x, y = line.get_data()\n",
    "mask = x > 0\n",
    "x, y = x[mask], y[mask]\n",
    "ax.fill_between(x, y1=y, alpha=0.5, facecolor='red')\n",
    "```\n"
   ]
  },
  {
   "cell_type": "code",
   "execution_count": null,
   "metadata": {},
   "outputs": [],
   "source": [
    "#Write your answer here\n"
   ]
  },
  {
   "cell_type": "markdown",
   "metadata": {
    "deletable": false,
    "editable": false,
    "run_control": {
     "frozen": true
    }
   },
   "source": [
    "**(ii) Calculate the middle 20% of mandarin oranges from the farm. Also, plot the density curve with the area covered by the probability shaded.**"
   ]
  },
  {
   "cell_type": "code",
   "execution_count": null,
   "metadata": {},
   "outputs": [],
   "source": [
    "#Write your answer here\n"
   ]
  },
  {
   "cell_type": "markdown",
   "metadata": {
    "deletable": false,
    "editable": false,
    "run_control": {
     "frozen": true
    }
   },
   "source": [
    "--- \n",
    "\n"
   ]
  },
  {
   "cell_type": "markdown",
   "metadata": {
    "deletable": false,
    "editable": false,
    "run_control": {
     "frozen": true
    }
   },
   "source": [
    "## Part C'\n",
    "\n",
    "### Inferential Statistics\n",
    "\n",
    "**TC1) A manufacturer claims that the thickness of the spearmint gum it produces is 7.5 one-hundredths of an inch. A quality control specialist regularly checks this claim. On one production run, he took a random sample of $n = 10$ pieces of gum and measured their thickness. He obtained the following readings [7.65, 7.60, 7.65, 7.70, 7.55, 7.55, 7.40, 7.40, 7.50, 7.50] and would like to assess the validity of the claim made by the manufacturer having suspicions that the thickness might be not within the acceptable limits.**\n",
    "\n",
    "**(i) State the Null and Alternative hypotheses**\n"
   ]
  },
  {
   "cell_type": "code",
   "execution_count": null,
   "metadata": {},
   "outputs": [],
   "source": [
    "#Write your answer here\n"
   ]
  },
  {
   "cell_type": "markdown",
   "metadata": {
    "deletable": false,
    "editable": false,
    "run_control": {
     "frozen": true
    }
   },
   "source": [
    "**(ii) Calculate the degrees of freedom**"
   ]
  },
  {
   "cell_type": "code",
   "execution_count": null,
   "metadata": {},
   "outputs": [],
   "source": [
    "#Write your answer here\n"
   ]
  },
  {
   "cell_type": "markdown",
   "metadata": {
    "deletable": false,
    "editable": false,
    "run_control": {
     "frozen": true
    }
   },
   "source": [
    "**(iii) Perform the appropriate t test to evaluate the hypotheses for significance level $\\alpha = 0.05$. You must show your calculations, i.e., calculate the result analytically, but you may use the appropriate scipy.stats method to check your results.**\n",
    "\n",
    "https://docs.scipy.org/doc/scipy/reference/stats.html"
   ]
  },
  {
   "cell_type": "code",
   "execution_count": null,
   "metadata": {},
   "outputs": [],
   "source": [
    "#Write your answer here\n"
   ]
  },
  {
   "cell_type": "markdown",
   "metadata": {
    "deletable": false,
    "editable": false,
    "run_control": {
     "frozen": true
    }
   },
   "source": [
    "**TC2) A personal trainer measured the maximum heart rate of 29 of their trainees. The resulting data is: \n",
    "[170, 167, 174, 179, 179, 187, 179, 183, 179, 156, 163, 156, 187, 156, 167, 156, 174, 170, 183, 179, 174, 179, 170, 159, 187]. The personal trainer believes that their mean heart rate is greater than 170 and he is interested in testing this hypothesis.**"
   ]
  },
  {
   "cell_type": "markdown",
   "metadata": {
    "deletable": false,
    "editable": false,
    "run_control": {
     "frozen": true
    }
   },
   "source": [
    "**(i) State the Null and Alternative hypotheses**"
   ]
  },
  {
   "cell_type": "code",
   "execution_count": null,
   "metadata": {},
   "outputs": [],
   "source": [
    "#Write your answer here\n"
   ]
  },
  {
   "cell_type": "markdown",
   "metadata": {
    "deletable": false,
    "editable": false,
    "run_control": {
     "frozen": true
    }
   },
   "source": [
    "**(ii) Calculate the degrees of freedom**"
   ]
  },
  {
   "cell_type": "code",
   "execution_count": null,
   "metadata": {},
   "outputs": [],
   "source": [
    "#Write your answer here\n"
   ]
  },
  {
   "cell_type": "markdown",
   "metadata": {
    "deletable": false,
    "editable": false,
    "run_control": {
     "frozen": true
    }
   },
   "source": [
    "**(iii) Perform the appropriate t test to evaluate the hypotheses for significance level $\\alpha = 0.05$. You must show your calculations, i.e., calculate the result analytically, but you may use the appropriate scipy.stats method to check your results.**"
   ]
  },
  {
   "cell_type": "code",
   "execution_count": null,
   "metadata": {},
   "outputs": [],
   "source": [
    "#Write your answer here\n"
   ]
  },
  {
   "cell_type": "markdown",
   "metadata": {
    "deletable": false,
    "editable": false,
    "run_control": {
     "frozen": true
    }
   },
   "source": [
    "**TC3) A biologist is interested in determining whether sunflower seedlings treated with a special extract results in a lower average height of sunflower seedlings than the standard height of 15.7 cm. The biologist treated a random sample of n = 33 seedlings with the extract and subsequently obtained the following heights: \n",
    "[11.5, 11.8, 15.7, 16.1, 14.1, 10.5, 9.3, 15.0, 11.1, 15.2, 19.0, 12.8, 12.4, 19.2, 13.5, 12.2, 13.3, 16.5, 13.5, 14.4, 16.7, 10.9, 13.0, 10.3, 15.8, 15.1, 17.1, 13.3, 12.4, 8.5, 14.3, 12.9, 13.5]**"
   ]
  },
  {
   "cell_type": "markdown",
   "metadata": {
    "deletable": false,
    "editable": false,
    "run_control": {
     "frozen": true
    }
   },
   "source": [
    "**(i) State the Null and Alternative hypotheses**"
   ]
  },
  {
   "cell_type": "code",
   "execution_count": null,
   "metadata": {},
   "outputs": [],
   "source": [
    "#Write your answer here\n"
   ]
  },
  {
   "cell_type": "markdown",
   "metadata": {
    "deletable": false,
    "editable": false,
    "run_control": {
     "frozen": true
    }
   },
   "source": [
    "**(ii) Calculate the degrees of freedom**"
   ]
  },
  {
   "cell_type": "code",
   "execution_count": null,
   "metadata": {},
   "outputs": [],
   "source": [
    "#Write your answer here\n"
   ]
  },
  {
   "cell_type": "markdown",
   "metadata": {
    "deletable": false,
    "editable": false,
    "run_control": {
     "frozen": true
    }
   },
   "source": [
    "**(iii) Perform the appropriate t test to evaluate the hypotheses for significance level  𝛼=0.05 . You must show your calculations, i.e., calculate the result analytically, but you may use the appropriate scipy.stats method to check your results.**"
   ]
  },
  {
   "cell_type": "code",
   "execution_count": null,
   "metadata": {},
   "outputs": [],
   "source": [
    "#Write your answer here\n"
   ]
  },
  {
   "cell_type": "markdown",
   "metadata": {},
   "source": [
    "**TC4) The board of directors at Netflix believes that \"“Displaying better artwork will result in greater engagement by members\". To test this hypothesis the data science team carries out an experiment in which they show to two groups different artworks and measure their engangement rate. The team collected the following data:** \n",
    "\n",
    "Group Control: [-0.5, 3.3, -9.3, 11.3, -5.4, 0, 12.3, -1, -2, -10.6, -10.2, -4.6, -12.2, -6.7, 11.6, 2.8,-7.1, 0.3, 6.2, 1.8, -0.2, 3.7, -9.2, 15.9, 8.3,-10.2]\n",
    "\n",
    "Group Art: [11.4, 9, 11, 3.9, 5.5, 5.7, 9.4, 10.7, 13.6, -2.9, -0.1, 7.4, 21.5, -5.3, -3.8, 13.4, 13.1]\n",
    "\n",
    "**Perform the appropriate t test to evaluate the hypotheses for significance level 𝛼=0.05 . You must show your calculations, i.e., calculate the result analytically, but you may use the appropriate scipy.stats method to check your results. State explicitly the hypothesis and the degrees of freedom**"
   ]
  },
  {
   "cell_type": "code",
   "execution_count": null,
   "metadata": {},
   "outputs": [],
   "source": [
    "#Write your answer here\n"
   ]
  },
  {
   "cell_type": "markdown",
   "metadata": {
    "deletable": false,
    "editable": false,
    "run_control": {
     "frozen": true
    }
   },
   "source": [
    "**TC5) As a coffee lover, John Doe wants to know whether the price of coffee is significantly different between a sample of coffee shops in York and Leeds. To validate this, he collects the following data from various neighbourhoods in York and Leeds**\n",
    "\n",
    "**York**: [1.5 , 1.5 , 1.79, 1.79, 1.79, 1.79, 1.85, 1.85, 1.85, 1.85, 1.85,\n",
    "        1.99, 1.99, 1.99, 1.99, 1.99, 1.99, 1.99, 2.  , 2.  , 2.  , 2.19,\n",
    "        2.19, 2.29, 2.29, 2.29, 2.29, 2.29, 2.5 , 2.5 ]\n",
    "        \n",
    "**Leeds**: [1.99, 1.99, 2.29, 2.29, 2.29, 2.29, 2.49, 2.49, 2.49, 2.49, 2.49,\n",
    "        2.49, 2.49, 2.49, 2.49, 2.79, 2.79, 2.79, 2.79, 2.79, 2.79, 2.79,\n",
    "        2.95, 2.95, 2.95, 2.95, 2.95, 2.95, 2.99, 2.99, 2.99, 2.99, 3.49,\n",
    "        3.49, 3.49]\n",
    "        \n",
    "\n",
    "**Perform the appropriate t test to evaluate the hypotheses for significance level 𝛼=0.05 . You must show your calculations, i.e., calculate the result analytically, but you may use the appropriate scipy.stats method to check your results. State explicitly the hypothesis and the degrees of freedom**\n"
   ]
  },
  {
   "cell_type": "code",
   "execution_count": null,
   "metadata": {},
   "outputs": [],
   "source": [
    "#Write your answer here\n"
   ]
  },
  {
   "cell_type": "markdown",
   "metadata": {},
   "source": [
    "---"
   ]
  },
  {
   "cell_type": "markdown",
   "metadata": {},
   "source": [
    "## Should you finish earlier/want to practice at home, you could\n",
    "\n",
    "* Go back to the previous practicals and run some statistical tests\n",
    "\n",
    "* The formula for sample standard deviation is $s = \\sqrt{\\frac{\\sum_{i=1}^{n}(x_i-\\overline{x})^2}{n-1}}$\n",
    "  Think about how you can demonstrate through simulation why $n-1$ (in the denominator) is appropriate; i.e., why not $n-2$, $n-3$ etc? For your information, this is called the Bessel's Correction.\n"
   ]
  }
 ],
 "metadata": {
  "kernelspec": {
   "display_name": "Python 3",
   "language": "python",
   "name": "python3"
  },
  "language_info": {
   "codemirror_mode": {
    "name": "ipython",
    "version": 3
   },
   "file_extension": ".py",
   "mimetype": "text/x-python",
   "name": "python",
   "nbconvert_exporter": "python",
   "pygments_lexer": "ipython3",
   "version": "3.7.3"
  }
 },
 "nbformat": 4,
 "nbformat_minor": 4
}
